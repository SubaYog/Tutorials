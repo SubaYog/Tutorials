{
 "cells": [
  {
   "cell_type": "markdown",
   "id": "9e3a1402",
   "metadata": {},
   "source": [
    "# DATA Structures \n",
    "-store, retrieve, and manipulate data in Python\n",
    "\n",
    "    Topics Covered :\n",
    "    1. List\n",
    "    2. Tuples\n",
    "    3.Sets\n",
    "    4.Dictionary"
   ]
  },
  {
   "cell_type": "markdown",
   "id": "2c91017e",
   "metadata": {},
   "source": [
    "# Lists : \n",
    "    1. They are created using [] brackets\n",
    "    2. They are mutable\n",
    "    3. They have defined order\n",
    "    4. They can have duplicates."
   ]
  },
  {
   "cell_type": "code",
   "execution_count": 3,
   "id": "6e832580",
   "metadata": {},
   "outputs": [
    {
     "name": "stdout",
     "output_type": "stream",
     "text": [
      "[]\n"
     ]
    }
   ],
   "source": [
    "#empty list\n",
    "a = []\n",
    "print(a)"
   ]
  },
  {
   "cell_type": "code",
   "execution_count": 4,
   "id": "c575b276",
   "metadata": {},
   "outputs": [
    {
     "data": {
      "text/plain": [
       "list"
      ]
     },
     "execution_count": 4,
     "metadata": {},
     "output_type": "execute_result"
    }
   ],
   "source": [
    "type(a)"
   ]
  },
  {
   "cell_type": "code",
   "execution_count": 5,
   "id": "f237f965",
   "metadata": {},
   "outputs": [
    {
     "name": "stdout",
     "output_type": "stream",
     "text": [
      "['R', 'Python', 45.7, 'Scala', 42]\n"
     ]
    }
   ],
   "source": [
    "languages = ['R','Python', 45.7, 'Scala', 42] #List can contain any datatype in it.\n",
    "print(languages)"
   ]
  },
  {
   "cell_type": "code",
   "execution_count": 6,
   "id": "4ddbfbf8",
   "metadata": {},
   "outputs": [
    {
     "name": "stdout",
     "output_type": "stream",
     "text": [
      "45.7\n"
     ]
    }
   ],
   "source": [
    "print(languages[2]) # Indexing starts from 0"
   ]
  },
  {
   "cell_type": "code",
   "execution_count": 7,
   "id": "94205334",
   "metadata": {},
   "outputs": [
    {
     "name": "stdout",
     "output_type": "stream",
     "text": [
      "['Python', 45.7, 'Scala']\n"
     ]
    }
   ],
   "source": [
    "print(languages[1:4])"
   ]
  },
  {
   "cell_type": "code",
   "execution_count": 8,
   "id": "b2c6acf2",
   "metadata": {},
   "outputs": [
    {
     "data": {
      "text/plain": [
       "['R', 'Python', 45.7, 'Scala', 42]"
      ]
     },
     "execution_count": 8,
     "metadata": {},
     "output_type": "execute_result"
    }
   ],
   "source": [
    "languages"
   ]
  },
  {
   "cell_type": "markdown",
   "id": "cb87a53f",
   "metadata": {},
   "source": [
    "# Appending data to the list :"
   ]
  },
  {
   "cell_type": "code",
   "execution_count": 9,
   "id": "26425280",
   "metadata": {},
   "outputs": [
    {
     "name": "stdout",
     "output_type": "stream",
     "text": [
      "['R', 'Python', 45.7, 'Scala', 42, 'ML']\n"
     ]
    }
   ],
   "source": [
    "languages.append('ML')\n",
    "print(languages)"
   ]
  },
  {
   "cell_type": "code",
   "execution_count": 10,
   "id": "62f76192",
   "metadata": {},
   "outputs": [
    {
     "name": "stdout",
     "output_type": "stream",
     "text": [
      "['R', 'Python', 45.7, 'Scala', 42, 'ML', 'ML']\n"
     ]
    }
   ],
   "source": [
    "#The list can contain duplicate data\n",
    "languages.append('ML')\n",
    "print(languages)"
   ]
  },
  {
   "cell_type": "code",
   "execution_count": 11,
   "id": "96c6a31f",
   "metadata": {},
   "outputs": [
    {
     "data": {
      "text/plain": [
       "'ML'"
      ]
     },
     "execution_count": 11,
     "metadata": {},
     "output_type": "execute_result"
    }
   ],
   "source": [
    "# Removing data from the list\n",
    "\n",
    "languages.pop() # removes the last one."
   ]
  },
  {
   "cell_type": "code",
   "execution_count": 12,
   "id": "cfc5bffe",
   "metadata": {},
   "outputs": [
    {
     "data": {
      "text/plain": [
       "['R', 'Python', 45.7, 'Scala', 42, 'ML']"
      ]
     },
     "execution_count": 12,
     "metadata": {},
     "output_type": "execute_result"
    }
   ],
   "source": [
    "languages"
   ]
  },
  {
   "cell_type": "code",
   "execution_count": 13,
   "id": "d94604e2",
   "metadata": {},
   "outputs": [
    {
     "name": "stdout",
     "output_type": "stream",
     "text": [
      "['Python', 45.7, 'Scala', 42, 'ML']\n"
     ]
    }
   ],
   "source": [
    "#removing data from the list based on the position\n",
    "languages.pop(0) \n",
    "print(languages)"
   ]
  },
  {
   "cell_type": "code",
   "execution_count": 14,
   "id": "58ca5d7c",
   "metadata": {},
   "outputs": [
    {
     "name": "stdout",
     "output_type": "stream",
     "text": [
      "['Python', 'Scala', 42, 'ML']\n"
     ]
    }
   ],
   "source": [
    "languages.pop(1) \n",
    "print(languages)"
   ]
  },
  {
   "cell_type": "code",
   "execution_count": 15,
   "id": "9304aaa1",
   "metadata": {},
   "outputs": [
    {
     "name": "stdout",
     "output_type": "stream",
     "text": [
      "['Python', 'Scala', 42, 'ML', 'Deep Learning']\n"
     ]
    }
   ],
   "source": [
    "languages.append('Deep Learning')\n",
    "\n",
    "print(languages)\n"
   ]
  },
  {
   "cell_type": "code",
   "execution_count": 16,
   "id": "c20fe0f1",
   "metadata": {},
   "outputs": [
    {
     "name": "stdout",
     "output_type": "stream",
     "text": [
      "['Python', 42, 'ML', 'Deep Learning']\n"
     ]
    }
   ],
   "source": [
    "#we can also delete using remove command, by giving the name inside the list.\n",
    "languages.remove('Scala')\n",
    "print(languages)"
   ]
  },
  {
   "cell_type": "code",
   "execution_count": 17,
   "id": "17dac6a4",
   "metadata": {},
   "outputs": [
    {
     "name": "stdout",
     "output_type": "stream",
     "text": [
      "['Python', 42, 'ML', 'Deep Learning', 'Java']\n"
     ]
    }
   ],
   "source": [
    "#duplicating into new list.\n",
    "new_list = languages\n",
    "languages.append('Java')\n",
    "print(new_list)"
   ]
  },
  {
   "cell_type": "code",
   "execution_count": 45,
   "id": "093b90b5",
   "metadata": {},
   "outputs": [
    {
     "data": {
      "text/plain": [
       "['Python', 42, 'ML', 'Deep Learning', 'Java', 'AI']"
      ]
     },
     "execution_count": 45,
     "metadata": {},
     "output_type": "execute_result"
    }
   ],
   "source": [
    "languages.append('AI')\n",
    "languages"
   ]
  },
  {
   "cell_type": "code",
   "execution_count": 18,
   "id": "aa585962",
   "metadata": {},
   "outputs": [
    {
     "data": {
      "text/plain": [
       "['Python', 42, 'ML', 'Deep Learning', 'Java']"
      ]
     },
     "execution_count": 18,
     "metadata": {},
     "output_type": "execute_result"
    }
   ],
   "source": [
    "#changes happen in the duplicated list is affected into new list also\n",
    "languages"
   ]
  },
  {
   "cell_type": "markdown",
   "id": "5e16fb0a",
   "metadata": {},
   "source": [
    "How the above works :\n",
    "    if\n",
    "    a=2\n",
    "    b=a then value of b will be equal to value of a, \n",
    "    when i change value of a what ever changes made will impact b also. that is what happens above.\n",
    "    because the value for a and b are stored under the same id name.\n",
    "    "
   ]
  },
  {
   "cell_type": "code",
   "execution_count": 19,
   "id": "9b2e4f6c",
   "metadata": {},
   "outputs": [
    {
     "name": "stdout",
     "output_type": "stream",
     "text": [
      "2161444226560\n"
     ]
    }
   ],
   "source": [
    "print(id(languages))"
   ]
  },
  {
   "cell_type": "code",
   "execution_count": 20,
   "id": "07dd682d",
   "metadata": {},
   "outputs": [
    {
     "name": "stdout",
     "output_type": "stream",
     "text": [
      "2161444226560\n"
     ]
    }
   ],
   "source": [
    "print(id(new_list))"
   ]
  },
  {
   "cell_type": "code",
   "execution_count": 21,
   "id": "d00bcf6c",
   "metadata": {},
   "outputs": [],
   "source": [
    "#Both the new list and the old list are saved under the same space."
   ]
  },
  {
   "cell_type": "code",
   "execution_count": 22,
   "id": "c7ed9be6",
   "metadata": {},
   "outputs": [
    {
     "name": "stdout",
     "output_type": "stream",
     "text": [
      "2161445302976\n"
     ]
    }
   ],
   "source": [
    "#copy command\n",
    "another_list = languages.copy()\n",
    "print(id(another_list))"
   ]
  },
  {
   "cell_type": "code",
   "execution_count": 47,
   "id": "6ef8a265",
   "metadata": {},
   "outputs": [
    {
     "data": {
      "text/plain": [
       "['Python', 42, 'ML', 'Deep Learning', 'Java']"
      ]
     },
     "execution_count": 47,
     "metadata": {},
     "output_type": "execute_result"
    }
   ],
   "source": [
    "another_list"
   ]
  },
  {
   "cell_type": "code",
   "execution_count": 24,
   "id": "70fa743c",
   "metadata": {},
   "outputs": [],
   "source": [
    "#Sorting\n",
    "l1=['python','ML','Deep learning','R']"
   ]
  },
  {
   "cell_type": "code",
   "execution_count": 25,
   "id": "d60a9827",
   "metadata": {},
   "outputs": [
    {
     "data": {
      "text/plain": [
       "['Deep learning', 'ML', 'R', 'python']"
      ]
     },
     "execution_count": 25,
     "metadata": {},
     "output_type": "execute_result"
    }
   ],
   "source": [
    "l1.sort()\n",
    "l1"
   ]
  },
  {
   "cell_type": "code",
   "execution_count": 26,
   "id": "8f40bd12",
   "metadata": {},
   "outputs": [
    {
     "data": {
      "text/plain": [
       "[1, 2, 3]"
      ]
     },
     "execution_count": 26,
     "metadata": {},
     "output_type": "execute_result"
    }
   ],
   "source": [
    "l2=[1,2,3]\n",
    "l2"
   ]
  },
  {
   "cell_type": "code",
   "execution_count": 27,
   "id": "032c6b0a",
   "metadata": {},
   "outputs": [
    {
     "data": {
      "text/plain": [
       "['Deep learning', 'ML', 'R', 'python', 1, 2, 3]"
      ]
     },
     "execution_count": 27,
     "metadata": {},
     "output_type": "execute_result"
    }
   ],
   "source": [
    "l1+l2"
   ]
  },
  {
   "cell_type": "code",
   "execution_count": 28,
   "id": "91fd7588",
   "metadata": {},
   "outputs": [
    {
     "data": {
      "text/plain": [
       "[1, 2, 3, 1, 2, 3, 1, 2, 3]"
      ]
     },
     "execution_count": 28,
     "metadata": {},
     "output_type": "execute_result"
    }
   ],
   "source": [
    "l2*3\n"
   ]
  },
  {
   "cell_type": "code",
   "execution_count": 29,
   "id": "aa33611c",
   "metadata": {},
   "outputs": [
    {
     "data": {
      "text/plain": [
       "3"
      ]
     },
     "execution_count": 29,
     "metadata": {},
     "output_type": "execute_result"
    }
   ],
   "source": [
    "len(l2)"
   ]
  },
  {
   "cell_type": "code",
   "execution_count": 30,
   "id": "05d9eec4",
   "metadata": {},
   "outputs": [
    {
     "data": {
      "text/plain": [
       "[1, 2, 3]"
      ]
     },
     "execution_count": 30,
     "metadata": {},
     "output_type": "execute_result"
    }
   ],
   "source": [
    "l2"
   ]
  },
  {
   "cell_type": "code",
   "execution_count": 31,
   "id": "2198998d",
   "metadata": {},
   "outputs": [],
   "source": [
    "l2=l2*3"
   ]
  },
  {
   "cell_type": "code",
   "execution_count": 32,
   "id": "2d2344a4",
   "metadata": {},
   "outputs": [
    {
     "data": {
      "text/plain": [
       "[1, 2, 3, 1, 2, 3, 1, 2, 3]"
      ]
     },
     "execution_count": 32,
     "metadata": {},
     "output_type": "execute_result"
    }
   ],
   "source": [
    "l2"
   ]
  },
  {
   "cell_type": "code",
   "execution_count": 33,
   "id": "92a84598",
   "metadata": {},
   "outputs": [
    {
     "name": "stdout",
     "output_type": "stream",
     "text": [
      "6\n"
     ]
    }
   ],
   "source": [
    "nums = [2,6,9,3,2,10]\n",
    "print(len(nums))"
   ]
  },
  {
   "cell_type": "code",
   "execution_count": 34,
   "id": "05db19ae",
   "metadata": {},
   "outputs": [
    {
     "name": "stdout",
     "output_type": "stream",
     "text": [
      "10\n"
     ]
    }
   ],
   "source": [
    "print(max(nums))"
   ]
  },
  {
   "cell_type": "code",
   "execution_count": 35,
   "id": "995777ae",
   "metadata": {},
   "outputs": [
    {
     "name": "stdout",
     "output_type": "stream",
     "text": [
      "2\n"
     ]
    }
   ],
   "source": [
    "print(min(nums))"
   ]
  },
  {
   "cell_type": "markdown",
   "id": "b6f43cc3",
   "metadata": {},
   "source": [
    "# Nested Lists "
   ]
  },
  {
   "cell_type": "code",
   "execution_count": 36,
   "id": "c32351f6",
   "metadata": {},
   "outputs": [
    {
     "data": {
      "text/plain": [
       "[[1, 2, 3, 4], [5, 6, 7], [8, 9, 10]]"
      ]
     },
     "execution_count": 36,
     "metadata": {},
     "output_type": "execute_result"
    }
   ],
   "source": [
    "n = [[1, 2, 3, 4], [ 5, 6, 7], [8, 9, 10]]\n",
    "n"
   ]
  },
  {
   "cell_type": "code",
   "execution_count": 37,
   "id": "1644b482",
   "metadata": {},
   "outputs": [
    {
     "name": "stdout",
     "output_type": "stream",
     "text": [
      "[5, 6, 7]\n"
     ]
    }
   ],
   "source": [
    "print(n[1])\n"
   ]
  },
  {
   "cell_type": "code",
   "execution_count": 38,
   "id": "8d3efc08",
   "metadata": {},
   "outputs": [
    {
     "name": "stdout",
     "output_type": "stream",
     "text": [
      "2\n"
     ]
    }
   ],
   "source": [
    "print(n[0][1])"
   ]
  },
  {
   "cell_type": "code",
   "execution_count": 39,
   "id": "adad218a",
   "metadata": {},
   "outputs": [],
   "source": [
    "n[1][1]='Nested List'"
   ]
  },
  {
   "cell_type": "code",
   "execution_count": 40,
   "id": "368e7041",
   "metadata": {},
   "outputs": [
    {
     "data": {
      "text/plain": [
       "[[1, 2, 3, 4], [5, 'Nested List', 7], [8, 9, 10]]"
      ]
     },
     "execution_count": 40,
     "metadata": {},
     "output_type": "execute_result"
    }
   ],
   "source": [
    "n"
   ]
  },
  {
   "cell_type": "markdown",
   "id": "67808d0e",
   "metadata": {},
   "source": [
    "# Tuples :\n",
    "    1. They are created with ()\n",
    "    2. They are Immutable\n",
    "    3. They are ordered\n",
    "    4. They can have duplicates"
   ]
  },
  {
   "cell_type": "code",
   "execution_count": 41,
   "id": "1c36777a",
   "metadata": {},
   "outputs": [
    {
     "name": "stdout",
     "output_type": "stream",
     "text": [
      "30\n"
     ]
    }
   ],
   "source": [
    "#Create a tuple\n",
    "first = (30, \"python\", 5.8)\n",
    "print(first[0])"
   ]
  },
  {
   "cell_type": "code",
   "execution_count": 42,
   "id": "b5c54832",
   "metadata": {},
   "outputs": [
    {
     "data": {
      "text/plain": [
       "tuple"
      ]
     },
     "execution_count": 42,
     "metadata": {},
     "output_type": "execute_result"
    }
   ],
   "source": [
    "type(first)"
   ]
  },
  {
   "cell_type": "code",
   "execution_count": 43,
   "id": "d376847b",
   "metadata": {},
   "outputs": [
    {
     "name": "stdout",
     "output_type": "stream",
     "text": [
      "('Bangalore', 28.9949521, 72)\n"
     ]
    }
   ],
   "source": [
    "city= (\"Bangalore\", 28.9949521, 72) \n",
    "print(city)"
   ]
  },
  {
   "cell_type": "code",
   "execution_count": 44,
   "id": "a686e088",
   "metadata": {},
   "outputs": [
    {
     "ename": "TypeError",
     "evalue": "'tuple' object does not support item assignment",
     "output_type": "error",
     "traceback": [
      "\u001b[1;31m---------------------------------------------------------------------------\u001b[0m",
      "\u001b[1;31mTypeError\u001b[0m                                 Traceback (most recent call last)",
      "\u001b[1;32m~\\AppData\\Local\\Temp\\ipykernel_16220\\3929714467.py\u001b[0m in \u001b[0;36m<module>\u001b[1;34m\u001b[0m\n\u001b[0;32m      1\u001b[0m \u001b[1;31m# will throw error\u001b[0m\u001b[1;33m\u001b[0m\u001b[1;33m\u001b[0m\u001b[0m\n\u001b[1;32m----> 2\u001b[1;33m \u001b[0mcity\u001b[0m\u001b[1;33m[\u001b[0m\u001b[1;36m1\u001b[0m\u001b[1;33m]\u001b[0m \u001b[1;33m=\u001b[0m \u001b[1;36m13.8877\u001b[0m \u001b[1;31m# Tuples once created cannot be modified.\u001b[0m\u001b[1;33m\u001b[0m\u001b[1;33m\u001b[0m\u001b[0m\n\u001b[0m",
      "\u001b[1;31mTypeError\u001b[0m: 'tuple' object does not support item assignment"
     ]
    }
   ],
   "source": [
    "# will throw error\n",
    "city[1] = 13.8877 # Tuples once created cannot be modified."
   ]
  },
  {
   "cell_type": "code",
   "execution_count": 48,
   "id": "b950fa9a",
   "metadata": {},
   "outputs": [
    {
     "name": "stdout",
     "output_type": "stream",
     "text": [
      "('Bangalore', 28.9949521)\n",
      "2\n"
     ]
    }
   ],
   "source": [
    "b = city[:-1]\n",
    "print(b)\n",
    "print(len(b))"
   ]
  },
  {
   "cell_type": "code",
   "execution_count": 49,
   "id": "c805f67f",
   "metadata": {},
   "outputs": [
    {
     "data": {
      "text/plain": [
       "(123, 543, 'hello!')"
      ]
     },
     "execution_count": 49,
     "metadata": {},
     "output_type": "execute_result"
    }
   ],
   "source": [
    "new1 = 123, 543, 'hello!'\n",
    "new1"
   ]
  },
  {
   "cell_type": "code",
   "execution_count": 50,
   "id": "6ce07154",
   "metadata": {},
   "outputs": [
    {
     "data": {
      "text/plain": [
       "((123, 543, 'hello!'), (1, 2, 3, 4, 5))"
      ]
     },
     "execution_count": 50,
     "metadata": {},
     "output_type": "execute_result"
    }
   ],
   "source": [
    "new2 = new1, (1, 2, 3, 4, 5)\n",
    "new2 #one tuple can be merged with some other data to form a new tuple"
   ]
  },
  {
   "cell_type": "code",
   "execution_count": 51,
   "id": "3daf3b27",
   "metadata": {},
   "outputs": [],
   "source": [
    "#Changing list to tuples and vice versa\n",
    "var1 = ([1, 2, 3], [4,5,6])"
   ]
  },
  {
   "cell_type": "code",
   "execution_count": 53,
   "id": "4b169aee",
   "metadata": {},
   "outputs": [
    {
     "data": {
      "text/plain": [
       "list"
      ]
     },
     "execution_count": 53,
     "metadata": {},
     "output_type": "execute_result"
    }
   ],
   "source": [
    "c = list(var1) # Converting tuple to list\n",
    "c\n",
    "type(c)"
   ]
  },
  {
   "cell_type": "code",
   "execution_count": 54,
   "id": "df96c1a6",
   "metadata": {},
   "outputs": [
    {
     "data": {
      "text/plain": [
       "([1, 2, 3], [4, 5, 6])"
      ]
     },
     "execution_count": 54,
     "metadata": {},
     "output_type": "execute_result"
    }
   ],
   "source": [
    "c= tuple(c) # converting list to tuple\n",
    "c"
   ]
  },
  {
   "cell_type": "code",
   "execution_count": 55,
   "id": "8bb345e0",
   "metadata": {},
   "outputs": [
    {
     "data": {
      "text/plain": [
       "tuple"
      ]
     },
     "execution_count": 55,
     "metadata": {},
     "output_type": "execute_result"
    }
   ],
   "source": [
    "type(c)"
   ]
  },
  {
   "cell_type": "code",
   "execution_count": 3,
   "id": "d0edd54c",
   "metadata": {},
   "outputs": [
    {
     "ename": "AttributeError",
     "evalue": "'tuple' object has no attribute 'append'",
     "output_type": "error",
     "traceback": [
      "\u001b[1;31m---------------------------------------------------------------------------\u001b[0m",
      "\u001b[1;31mAttributeError\u001b[0m                            Traceback (most recent call last)",
      "\u001b[1;32m~\\AppData\\Local\\Temp\\ipykernel_23876\\1419613176.py\u001b[0m in \u001b[0;36m<module>\u001b[1;34m\u001b[0m\n\u001b[0;32m      1\u001b[0m \u001b[1;31m#What will be the answer for the following\u001b[0m\u001b[1;33m\u001b[0m\u001b[1;33m\u001b[0m\u001b[0m\n\u001b[0;32m      2\u001b[0m \u001b[0mt1\u001b[0m \u001b[1;33m=\u001b[0m \u001b[1;33m(\u001b[0m\u001b[1;36m1\u001b[0m\u001b[1;33m,\u001b[0m \u001b[1;36m2\u001b[0m\u001b[1;33m,\u001b[0m \u001b[1;36m3\u001b[0m\u001b[1;33m,\u001b[0m \u001b[1;36m4\u001b[0m\u001b[1;33m)\u001b[0m\u001b[1;33m\u001b[0m\u001b[1;33m\u001b[0m\u001b[0m\n\u001b[1;32m----> 3\u001b[1;33m \u001b[0mt1\u001b[0m\u001b[1;33m.\u001b[0m\u001b[0mappend\u001b[0m\u001b[1;33m(\u001b[0m\u001b[1;36m5\u001b[0m\u001b[1;33m)\u001b[0m\u001b[1;33m\u001b[0m\u001b[1;33m\u001b[0m\u001b[0m\n\u001b[0m\u001b[0;32m      4\u001b[0m \u001b[0mprint\u001b[0m\u001b[1;33m(\u001b[0m\u001b[0mt1\u001b[0m\u001b[1;33m)\u001b[0m\u001b[1;33m\u001b[0m\u001b[1;33m\u001b[0m\u001b[0m\n",
      "\u001b[1;31mAttributeError\u001b[0m: 'tuple' object has no attribute 'append'"
     ]
    }
   ],
   "source": [
    "#What will be the answer for the following\n",
    "t1 = (1, 2, 3, 4)\n",
    "t1.append(5)\n",
    "print(t1)\n"
   ]
  },
  {
   "cell_type": "code",
   "execution_count": 4,
   "id": "ee706cdc",
   "metadata": {},
   "outputs": [
    {
     "name": "stdout",
     "output_type": "stream",
     "text": [
      "[1, 2, 3, 4, 5]\n"
     ]
    }
   ],
   "source": [
    "my_list = [1, 2, 3, 4]\n",
    "my_list.append(5)\n",
    "print(my_list)"
   ]
  },
  {
   "cell_type": "code",
   "execution_count": null,
   "id": "325de5c1",
   "metadata": {},
   "outputs": [],
   "source": []
  },
  {
   "cell_type": "code",
   "execution_count": null,
   "id": "3ac50f27",
   "metadata": {},
   "outputs": [],
   "source": []
  },
  {
   "cell_type": "markdown",
   "id": "5adcb9a4",
   "metadata": {},
   "source": [
    "# SETS :\n",
    "    1. Use {}\n",
    "    2. Unordered\n",
    "    3.Collection of Unique elements(No duplicates allowed)\n",
    "    4. Unchangable (we can add or remove but cant do some other changes)\n",
    "    5. Can contain any data type.\n",
    "    "
   ]
  },
  {
   "cell_type": "code",
   "execution_count": 6,
   "id": "8c496057",
   "metadata": {},
   "outputs": [
    {
     "name": "stdout",
     "output_type": "stream",
     "text": [
      "{'Deep learning', 'ML', 'R', 'python'}\n"
     ]
    }
   ],
   "source": [
    "# Creating a set\n",
    "myset = {'Deep learning', 'ML', 'R', 'python'}\n",
    "print(myset)"
   ]
  },
  {
   "cell_type": "code",
   "execution_count": 8,
   "id": "fcf1bc94",
   "metadata": {},
   "outputs": [
    {
     "data": {
      "text/plain": [
       "set"
      ]
     },
     "execution_count": 8,
     "metadata": {},
     "output_type": "execute_result"
    }
   ],
   "source": [
    "type(myset)"
   ]
  },
  {
   "cell_type": "code",
   "execution_count": 7,
   "id": "b88ff411",
   "metadata": {},
   "outputs": [
    {
     "name": "stdout",
     "output_type": "stream",
     "text": [
      "{'Deep learning', 'AI', 'ML', 'R', 'python'}\n"
     ]
    }
   ],
   "source": [
    "# Adding an element to the set\n",
    "myset.add(\"AI\")\n",
    "print(myset) "
   ]
  },
  {
   "cell_type": "code",
   "execution_count": 8,
   "id": "1b4e2dae",
   "metadata": {},
   "outputs": [
    {
     "name": "stdout",
     "output_type": "stream",
     "text": [
      "{'Deep learning', 'AI', 'ML', 'python'}\n"
     ]
    }
   ],
   "source": [
    "myset.remove(\"R\")\n",
    "print(myset)"
   ]
  },
  {
   "cell_type": "code",
   "execution_count": 7,
   "id": "c91f4c92",
   "metadata": {},
   "outputs": [
    {
     "data": {
      "text/plain": [
       "{'AI', 'Deep learning', 'ML', 'R', 'ai', 'python'}"
      ]
     },
     "execution_count": 7,
     "metadata": {},
     "output_type": "execute_result"
    }
   ],
   "source": [
    "newset={'Deep learning', 'ML', 'R', 'python','R','AI','ML','ai'}\n",
    "newset"
   ]
  },
  {
   "cell_type": "code",
   "execution_count": 9,
   "id": "56f606e6",
   "metadata": {},
   "outputs": [
    {
     "name": "stdout",
     "output_type": "stream",
     "text": [
      "{'python', 'ML', 'AI', 'Deep learning'}\n"
     ]
    }
   ],
   "source": [
    "#Intersection - Prints the common between 2 sets\n",
    "print(myset.intersection(newset))"
   ]
  },
  {
   "cell_type": "code",
   "execution_count": 10,
   "id": "2604a139",
   "metadata": {},
   "outputs": [
    {
     "name": "stdout",
     "output_type": "stream",
     "text": [
      "{'python', 'AI', 'R', 'ai', 'ML', 'Deep learning'}\n"
     ]
    }
   ],
   "source": [
    "#Set Union (Joins both the sets, no duplicates)\n",
    "print(myset.union(newset))"
   ]
  },
  {
   "cell_type": "code",
   "execution_count": 16,
   "id": "161f5c6e",
   "metadata": {},
   "outputs": [
    {
     "name": "stdout",
     "output_type": "stream",
     "text": [
      "{'R', 'ai'}\n"
     ]
    }
   ],
   "source": [
    "#Set difference it excludes the common items and prints the other\n",
    "#The difference of the set B from set A (A - B) is a set of elements that are only in A but not in B. \n",
    "#Similarly, B - A is a set of elements in B but not in A.\n",
    "print(newset.difference(myset))"
   ]
  },
  {
   "cell_type": "code",
   "execution_count": 17,
   "id": "00ff8527",
   "metadata": {},
   "outputs": [
    {
     "name": "stdout",
     "output_type": "stream",
     "text": [
      "set()\n"
     ]
    }
   ],
   "source": [
    "print(myset.difference(newset))"
   ]
  },
  {
   "cell_type": "code",
   "execution_count": 13,
   "id": "924fa17a",
   "metadata": {},
   "outputs": [
    {
     "data": {
      "text/plain": [
       "{'AI', 'Deep learning', 'ML', 'python'}"
      ]
     },
     "execution_count": 13,
     "metadata": {},
     "output_type": "execute_result"
    }
   ],
   "source": [
    "myset"
   ]
  },
  {
   "cell_type": "code",
   "execution_count": 14,
   "id": "4f57d9cf",
   "metadata": {},
   "outputs": [
    {
     "data": {
      "text/plain": [
       "{'AI', 'Deep learning', 'ML', 'R', 'ai', 'python'}"
      ]
     },
     "execution_count": 14,
     "metadata": {},
     "output_type": "execute_result"
    }
   ],
   "source": [
    "newset"
   ]
  },
  {
   "cell_type": "markdown",
   "id": "a62655d4",
   "metadata": {},
   "source": [
    "# Dictionaries :\n",
    "    1.Stores Values in Keys:Value pairs \n",
    "    2.created using {}\n",
    "    3. Dictionaries are ordered(from python 3.7,earlier it was unordered)\n",
    "    4. Mutable\n",
    "    5.No Duplicates\n",
    "    6. Can have any data types"
   ]
  },
  {
   "cell_type": "code",
   "execution_count": 18,
   "id": "535c4c45",
   "metadata": {},
   "outputs": [
    {
     "name": "stdout",
     "output_type": "stream",
     "text": [
      "<class 'dict'>\n"
     ]
    }
   ],
   "source": [
    "empty_dict = {}\n",
    "print(type(empty_dict))"
   ]
  },
  {
   "cell_type": "code",
   "execution_count": 22,
   "id": "2c09bd6e",
   "metadata": {},
   "outputs": [
    {
     "name": "stdout",
     "output_type": "stream",
     "text": [
      "{'bird': 'peacock', 'animal': 'cat', 'earth': 2, 'list': [23, 32, 12]}\n"
     ]
    },
    {
     "data": {
      "text/plain": [
       "dict"
      ]
     },
     "execution_count": 22,
     "metadata": {},
     "output_type": "execute_result"
    }
   ],
   "source": [
    "d = {\"bird\":\"peacock\",\"animal\":\"cat\",\"earth\":2,\"list\":[23,32,12]}\n",
    "print(d)\n",
    "type(d)"
   ]
  },
  {
   "cell_type": "code",
   "execution_count": 20,
   "id": "03f3f8dc",
   "metadata": {},
   "outputs": [
    {
     "name": "stdout",
     "output_type": "stream",
     "text": [
      "peacock\n"
     ]
    }
   ],
   "source": [
    "Bird= d['bird']\n",
    "print(Bird)"
   ]
  },
  {
   "cell_type": "code",
   "execution_count": 24,
   "id": "be85ba1a",
   "metadata": {},
   "outputs": [
    {
     "name": "stdout",
     "output_type": "stream",
     "text": [
      "[23, 32, 12]\n"
     ]
    }
   ],
   "source": [
    "age = d.get('list')\n",
    "print(age)"
   ]
  },
  {
   "cell_type": "code",
   "execution_count": 25,
   "id": "51ebcbcc",
   "metadata": {},
   "outputs": [
    {
     "name": "stdout",
     "output_type": "stream",
     "text": [
      "{'bird': 'peacock', 'animal': 'cat', 'earth': 2, 'list': [23, 32, 12], 'Profession': 'Singer'}\n"
     ]
    }
   ],
   "source": [
    "#add a key, val\n",
    "d['Profession'] = 'Singer'\n",
    "print(d)"
   ]
  },
  {
   "cell_type": "code",
   "execution_count": 12,
   "id": "65c43b07",
   "metadata": {},
   "outputs": [
    {
     "data": {
      "text/plain": [
       "{'python': 'suba', 'SQL': 'vignesh', 'java': 'pivin'}"
      ]
     },
     "execution_count": 12,
     "metadata": {},
     "output_type": "execute_result"
    }
   ],
   "source": [
    "d1={'python':'suba','SQL':'vignesh','java':'pivin'}\n",
    "d1"
   ]
  },
  {
   "cell_type": "code",
   "execution_count": 13,
   "id": "ca668621",
   "metadata": {},
   "outputs": [
    {
     "data": {
      "text/plain": [
       "{'python': 'suba', 'SQL': 'vignesh', 'java': 'pivin', 'ETL': 'banu'}"
      ]
     },
     "execution_count": 13,
     "metadata": {},
     "output_type": "execute_result"
    }
   ],
   "source": [
    "d1['ETL']='banu'\n",
    "d1"
   ]
  },
  {
   "cell_type": "code",
   "execution_count": 26,
   "id": "d83e382f",
   "metadata": {},
   "outputs": [
    {
     "name": "stdout",
     "output_type": "stream",
     "text": [
      "{'bird': 'peacock', 'animal': 'cat', 'earth': 2, 'list': [23, 32, 12], 'Profession': 'Singer', 'Name': 'Taylor swift', 'Songs': ['Blank space', 'Lover']}\n"
     ]
    }
   ],
   "source": [
    "#updating 2 new keys and values\n",
    "new = dict(Name='Taylor swift', Songs=['Blank space','Lover'])\n",
    "d.update(new)\n",
    "print(d)"
   ]
  },
  {
   "cell_type": "code",
   "execution_count": 27,
   "id": "2771a084",
   "metadata": {},
   "outputs": [
    {
     "name": "stdout",
     "output_type": "stream",
     "text": [
      "{'animal': 'cat', 'earth': 2, 'list': [23, 32, 12], 'Profession': 'Singer', 'Name': 'Taylor swift', 'Songs': ['Blank space', 'Lover']}\n"
     ]
    }
   ],
   "source": [
    "del d['bird']\n",
    "print(d)"
   ]
  },
  {
   "cell_type": "code",
   "execution_count": 28,
   "id": "2850d378",
   "metadata": {},
   "outputs": [
    {
     "name": "stdout",
     "output_type": "stream",
     "text": [
      "['cat', 2, [23, 32, 12], 'Singer', 'Taylor swift', ['Blank space', 'Lover']]\n"
     ]
    }
   ],
   "source": [
    "#see all the details. \n",
    "print(list(d.values()))"
   ]
  },
  {
   "cell_type": "code",
   "execution_count": 29,
   "id": "cedc7dad",
   "metadata": {},
   "outputs": [
    {
     "name": "stdout",
     "output_type": "stream",
     "text": [
      "['animal', 'earth', 'list', 'Profession', 'Name', 'Songs']\n"
     ]
    }
   ],
   "source": [
    "print(list(d.keys()))"
   ]
  },
  {
   "cell_type": "code",
   "execution_count": 31,
   "id": "be6ac831",
   "metadata": {},
   "outputs": [
    {
     "data": {
      "text/plain": [
       "{'animal': 'cat',\n",
       " 'earth': 2,\n",
       " 'list': [23, 32, 12],\n",
       " 'Profession': 'Singer',\n",
       " 'Name': 'Taylor swift',\n",
       " 'Songs': ['Blank space', 'Lover']}"
      ]
     },
     "execution_count": 31,
     "metadata": {},
     "output_type": "execute_result"
    }
   ],
   "source": [
    "d"
   ]
  },
  {
   "cell_type": "markdown",
   "id": "161c46b7",
   "metadata": {},
   "source": [
    "# TASKS"
   ]
  },
  {
   "cell_type": "markdown",
   "id": "f09783d6",
   "metadata": {},
   "source": [
    "1. Create 1st tuple with values -> (10, 20, 30), 2nd tuple with values -> (40,\n",
    "50, 60):\n",
    "a. Concatenate the two tuples and store it in “t_combine”\n",
    "b. Repeat the elements of “t_combine” 3 times\n",
    "c. Access the 3rd element from “t_combine”\n",
    "d. Access the first three elements from “t_combine”\n",
    "e. Access the last three elements from “t_combine"
   ]
  },
  {
   "cell_type": "markdown",
   "id": "74437dbd",
   "metadata": {},
   "source": [
    "2. Create a list ‘my_list’ with these elements:\n",
    "a. First element is a tuple with values 1, 2, 3\n",
    "b. Second element is a tuple with values “a”, “b”, “c”\n",
    "c. Third element is a tuple with values True,False"
   ]
  },
  {
   "cell_type": "markdown",
   "id": "bda2d2b9",
   "metadata": {},
   "source": [
    "3. Create a dictionary ‘fruit’ where:\n",
    "a. The first key is ‘Fruit’ and the values are (“Apple”, “Banana”, “Mango”,\n",
    "“Guava”)\n",
    "b.The second key is ‘Cost’ and the values are (85, 54, 120, 70)\n",
    "c. Extract all the keys from ‘fruit’\n",
    "d. Extract all the values from ‘fruit’"
   ]
  },
  {
   "cell_type": "markdown",
   "id": "ea2a5bfd",
   "metadata": {},
   "source": [
    "4.Create a set named ‘my_set’ with values (1, 1, “a”, “a”, True, True) and print the result."
   ]
  },
  {
   "cell_type": "code",
   "execution_count": null,
   "id": "8c482c40",
   "metadata": {},
   "outputs": [],
   "source": []
  }
 ],
 "metadata": {
  "kernelspec": {
   "display_name": "Python 3 (ipykernel)",
   "language": "python",
   "name": "python3"
  },
  "language_info": {
   "codemirror_mode": {
    "name": "ipython",
    "version": 3
   },
   "file_extension": ".py",
   "mimetype": "text/x-python",
   "name": "python",
   "nbconvert_exporter": "python",
   "pygments_lexer": "ipython3",
   "version": "3.9.13"
  }
 },
 "nbformat": 4,
 "nbformat_minor": 5
}
