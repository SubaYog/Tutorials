{
 "cells": [
  {
   "cell_type": "markdown",
   "id": "70ae7dc4",
   "metadata": {},
   "source": [
    "# Python Basics :\n",
    "                        \n",
    "                      Topics Covered \n",
    "                        1. Variables\n",
    "                        2. Operators\n",
    "                        3. Tokens\n",
    "                        4. Strings\n"
   ]
  },
  {
   "cell_type": "markdown",
   "id": "6f7b0c98",
   "metadata": {},
   "source": [
    "\n",
    "    "
   ]
  },
  {
   "cell_type": "code",
   "execution_count": 1,
   "id": "9d999fc3",
   "metadata": {},
   "outputs": [
    {
     "name": "stdout",
     "output_type": "stream",
     "text": [
      "Hello\n"
     ]
    }
   ],
   "source": [
    "#Simple program to print some values!!!\n",
    "print('Hello')"
   ]
  },
  {
   "cell_type": "code",
   "execution_count": 2,
   "id": "96c71173",
   "metadata": {},
   "outputs": [
    {
     "name": "stdout",
     "output_type": "stream",
     "text": [
      "123\n"
     ]
    }
   ],
   "source": [
    "print(\"123\")"
   ]
  },
  {
   "cell_type": "markdown",
   "id": "43a8218a",
   "metadata": {},
   "source": [
    "Variables :\n",
    "    \n",
    "    Variables are the empty containers that stores some values. They can be of any type."
   ]
  },
  {
   "cell_type": "code",
   "execution_count": 1,
   "id": "429982be",
   "metadata": {},
   "outputs": [
    {
     "name": "stdout",
     "output_type": "stream",
     "text": [
      "10\n"
     ]
    }
   ],
   "source": [
    "#simple examples for variables\n",
    "a=10\n",
    "print(a)"
   ]
  },
  {
   "cell_type": "code",
   "execution_count": 4,
   "id": "615c39a3",
   "metadata": {},
   "outputs": [
    {
     "data": {
      "text/plain": [
       "10"
      ]
     },
     "execution_count": 4,
     "metadata": {},
     "output_type": "execute_result"
    }
   ],
   "source": [
    "a"
   ]
  },
  {
   "cell_type": "code",
   "execution_count": 5,
   "id": "6398cfe1",
   "metadata": {},
   "outputs": [
    {
     "name": "stdout",
     "output_type": "stream",
     "text": [
      "First variable\n"
     ]
    }
   ],
   "source": [
    "b='First variable'\n",
    "print(b)"
   ]
  },
  {
   "cell_type": "code",
   "execution_count": 9,
   "id": "18514d2b",
   "metadata": {},
   "outputs": [
    {
     "data": {
      "text/plain": [
       "float"
      ]
     },
     "execution_count": 9,
     "metadata": {},
     "output_type": "execute_result"
    }
   ],
   "source": [
    "#Variable types\n",
    "c=4.0\n",
    "type(c)"
   ]
  },
  {
   "cell_type": "code",
   "execution_count": 10,
   "id": "268055a7",
   "metadata": {},
   "outputs": [
    {
     "data": {
      "text/plain": [
       "str"
      ]
     },
     "execution_count": 10,
     "metadata": {},
     "output_type": "execute_result"
    }
   ],
   "source": [
    "type(b)"
   ]
  },
  {
   "cell_type": "code",
   "execution_count": 22,
   "id": "07a6f9d1",
   "metadata": {},
   "outputs": [
    {
     "data": {
      "text/plain": [
       "bool"
      ]
     },
     "execution_count": 22,
     "metadata": {},
     "output_type": "execute_result"
    }
   ],
   "source": [
    "a=True\n",
    "type(a)"
   ]
  },
  {
   "cell_type": "code",
   "execution_count": 23,
   "id": "8d31fd83",
   "metadata": {},
   "outputs": [
    {
     "data": {
      "text/plain": [
       "complex"
      ]
     },
     "execution_count": 23,
     "metadata": {},
     "output_type": "execute_result"
    }
   ],
   "source": [
    "a=3+4j\n",
    "type(a)"
   ]
  },
  {
   "cell_type": "code",
   "execution_count": 2,
   "id": "6ec07409",
   "metadata": {},
   "outputs": [
    {
     "name": "stdout",
     "output_type": "stream",
     "text": [
      "Enter value for x : 9\n"
     ]
    }
   ],
   "source": [
    "#Getting user defined input\n",
    "x=input('Enter value for x : ')\n"
   ]
  },
  {
   "cell_type": "code",
   "execution_count": 3,
   "id": "72014911",
   "metadata": {},
   "outputs": [
    {
     "name": "stdout",
     "output_type": "stream",
     "text": [
      "<class 'str'>\n"
     ]
    }
   ],
   "source": [
    "print(type(x))"
   ]
  },
  {
   "cell_type": "code",
   "execution_count": 20,
   "id": "fc4493e8",
   "metadata": {},
   "outputs": [
    {
     "name": "stdout",
     "output_type": "stream",
     "text": [
      "Enter value for x : 6\n"
     ]
    }
   ],
   "source": [
    "y=int(input('Enter value for x : '))"
   ]
  },
  {
   "cell_type": "code",
   "execution_count": 21,
   "id": "0361071b",
   "metadata": {},
   "outputs": [
    {
     "name": "stdout",
     "output_type": "stream",
     "text": [
      "<class 'int'>\n"
     ]
    }
   ],
   "source": [
    "print(type(y))"
   ]
  },
  {
   "cell_type": "markdown",
   "id": "a25e9798",
   "metadata": {},
   "source": [
    "# Operators :\n",
    "    1. Arithmetic operators\n",
    "    2. Logical operators\n",
    "    3. Relational operators"
   ]
  },
  {
   "cell_type": "markdown",
   "id": "4413fe7c",
   "metadata": {},
   "source": [
    "\n",
    "ARITHMETIC OPERATIONS \n",
    "1. Addition (+)\n",
    "2. Subtraction(-)\n",
    "3. Multiplication (*)\n",
    "4. Division (/)(//)(%)"
   ]
  },
  {
   "cell_type": "code",
   "execution_count": 24,
   "id": "d9fe0cc5",
   "metadata": {},
   "outputs": [],
   "source": [
    "a=10\n",
    "b=20"
   ]
  },
  {
   "cell_type": "code",
   "execution_count": 26,
   "id": "e409da71",
   "metadata": {},
   "outputs": [
    {
     "data": {
      "text/plain": [
       "30"
      ]
     },
     "execution_count": 26,
     "metadata": {},
     "output_type": "execute_result"
    }
   ],
   "source": [
    "c=a+b\n",
    "c"
   ]
  },
  {
   "cell_type": "code",
   "execution_count": 27,
   "id": "e669f2b6",
   "metadata": {},
   "outputs": [
    {
     "data": {
      "text/plain": [
       "10"
      ]
     },
     "execution_count": 27,
     "metadata": {},
     "output_type": "execute_result"
    }
   ],
   "source": [
    "c=b-a\n",
    "c"
   ]
  },
  {
   "cell_type": "code",
   "execution_count": 29,
   "id": "d30dc307",
   "metadata": {},
   "outputs": [
    {
     "data": {
      "text/plain": [
       "200"
      ]
     },
     "execution_count": 29,
     "metadata": {},
     "output_type": "execute_result"
    }
   ],
   "source": [
    "c=a*b\n",
    "c"
   ]
  },
  {
   "cell_type": "code",
   "execution_count": 31,
   "id": "342752b5",
   "metadata": {},
   "outputs": [
    {
     "data": {
      "text/plain": [
       "2.0"
      ]
     },
     "execution_count": 31,
     "metadata": {},
     "output_type": "execute_result"
    }
   ],
   "source": [
    "#Single division gives the quotient with decimal points\n",
    "c=b/a \n",
    "c"
   ]
  },
  {
   "cell_type": "code",
   "execution_count": 32,
   "id": "2beb6e34",
   "metadata": {},
   "outputs": [
    {
     "data": {
      "text/plain": [
       "2"
      ]
     },
     "execution_count": 32,
     "metadata": {},
     "output_type": "execute_result"
    }
   ],
   "source": [
    "#double division gives the quotient in a round off manner(without decimal points)\n",
    "c=b//a\n",
    "c"
   ]
  },
  {
   "cell_type": "code",
   "execution_count": 33,
   "id": "38e93541",
   "metadata": {},
   "outputs": [
    {
     "data": {
      "text/plain": [
       "0"
      ]
     },
     "execution_count": 33,
     "metadata": {},
     "output_type": "execute_result"
    }
   ],
   "source": [
    "#Modulos returns the remainder \n",
    "c=b%a\n",
    "c"
   ]
  },
  {
   "cell_type": "markdown",
   "id": "52f3e056",
   "metadata": {},
   "source": [
    "Relational Operators :\n",
    "    <,>,==,!="
   ]
  },
  {
   "cell_type": "code",
   "execution_count": 34,
   "id": "d3ffcd4d",
   "metadata": {},
   "outputs": [],
   "source": [
    "a=20\n",
    "b=10"
   ]
  },
  {
   "cell_type": "code",
   "execution_count": 35,
   "id": "56b192ff",
   "metadata": {},
   "outputs": [
    {
     "data": {
      "text/plain": [
       "True"
      ]
     },
     "execution_count": 35,
     "metadata": {},
     "output_type": "execute_result"
    }
   ],
   "source": [
    "a>b"
   ]
  },
  {
   "cell_type": "code",
   "execution_count": 36,
   "id": "8d2075e9",
   "metadata": {},
   "outputs": [
    {
     "data": {
      "text/plain": [
       "False"
      ]
     },
     "execution_count": 36,
     "metadata": {},
     "output_type": "execute_result"
    }
   ],
   "source": [
    "a<b"
   ]
  },
  {
   "cell_type": "code",
   "execution_count": 37,
   "id": "73f64106",
   "metadata": {},
   "outputs": [
    {
     "data": {
      "text/plain": [
       "False"
      ]
     },
     "execution_count": 37,
     "metadata": {},
     "output_type": "execute_result"
    }
   ],
   "source": [
    "a==b"
   ]
  },
  {
   "cell_type": "code",
   "execution_count": 38,
   "id": "b67bb6bf",
   "metadata": {},
   "outputs": [
    {
     "data": {
      "text/plain": [
       "True"
      ]
     },
     "execution_count": 38,
     "metadata": {},
     "output_type": "execute_result"
    }
   ],
   "source": [
    "a!=b"
   ]
  },
  {
   "cell_type": "markdown",
   "id": "f793bdb7",
   "metadata": {},
   "source": [
    "Logical Operators:\n",
    "And operator ,\n",
    "Or operator  ,\n",
    "Not operator "
   ]
  },
  {
   "cell_type": "code",
   "execution_count": 61,
   "id": "5f5b4f82",
   "metadata": {},
   "outputs": [],
   "source": [
    "a=True\n",
    "b=False"
   ]
  },
  {
   "cell_type": "code",
   "execution_count": 62,
   "id": "59b7d501",
   "metadata": {},
   "outputs": [
    {
     "data": {
      "text/plain": [
       "False"
      ]
     },
     "execution_count": 62,
     "metadata": {},
     "output_type": "execute_result"
    }
   ],
   "source": [
    "c=a and b\n",
    "c"
   ]
  },
  {
   "cell_type": "code",
   "execution_count": 63,
   "id": "0fff935b",
   "metadata": {},
   "outputs": [
    {
     "data": {
      "text/plain": [
       "True"
      ]
     },
     "execution_count": 63,
     "metadata": {},
     "output_type": "execute_result"
    }
   ],
   "source": [
    "c=a or b\n",
    "c"
   ]
  },
  {
   "cell_type": "code",
   "execution_count": 64,
   "id": "e6a5fcd7",
   "metadata": {},
   "outputs": [
    {
     "data": {
      "text/plain": [
       "True"
      ]
     },
     "execution_count": 64,
     "metadata": {},
     "output_type": "execute_result"
    }
   ],
   "source": [
    "c= not b\n",
    "c"
   ]
  },
  {
   "cell_type": "code",
   "execution_count": 54,
   "id": "5afa0154",
   "metadata": {},
   "outputs": [
    {
     "name": "stdout",
     "output_type": "stream",
     "text": [
      "True\n"
     ]
    }
   ],
   "source": [
    "x = 10\n",
    "y = 20\n",
    "print(x < 15 and y < 30)"
   ]
  },
  {
   "cell_type": "code",
   "execution_count": 55,
   "id": "568dba0c",
   "metadata": {},
   "outputs": [
    {
     "name": "stdout",
     "output_type": "stream",
     "text": [
      "True\n"
     ]
    }
   ],
   "source": [
    "x = 10\n",
    "y = 20\n",
    "print(x < 5 or y < 30)"
   ]
  },
  {
   "cell_type": "code",
   "execution_count": 56,
   "id": "2751c179",
   "metadata": {},
   "outputs": [
    {
     "name": "stdout",
     "output_type": "stream",
     "text": [
      "True\n"
     ]
    }
   ],
   "source": [
    "x = 10\n",
    "print(not(x < 5))"
   ]
  },
  {
   "cell_type": "markdown",
   "id": "d05101d1",
   "metadata": {},
   "source": [
    "# Python Tokens :\n",
    "    1.Keywords\n",
    "    2.Identifiers\n",
    "    3.Literals\n",
    "    4.Operators"
   ]
  },
  {
   "cell_type": "markdown",
   "id": "a1d5ffc0",
   "metadata": {},
   "source": [
    "1. Keywords : Special reserved words that can be used."
   ]
  },
  {
   "cell_type": "code",
   "execution_count": 65,
   "id": "abfd60fe",
   "metadata": {},
   "outputs": [
    {
     "name": "stdout",
     "output_type": "stream",
     "text": [
      "['False', 'None', 'True', '__peg_parser__', 'and', 'as', 'assert', 'async', 'await', 'break', 'class', 'continue', 'def', 'del', 'elif', 'else', 'except', 'finally', 'for', 'from', 'global', 'if', 'import', 'in', 'is', 'lambda', 'nonlocal', 'not', 'or', 'pass', 'raise', 'return', 'try', 'while', 'with', 'yield']\n"
     ]
    }
   ],
   "source": [
    "import keyword\n",
    "print(keyword.kwlist)"
   ]
  },
  {
   "cell_type": "markdown",
   "id": "bdb5a0b6",
   "metadata": {},
   "source": [
    "# 2. Identifiers - > Name used for the variables,functions,objects :\n",
    "    Rules :\n",
    "        no spl character (except _)\n",
    "        Case sensitive\n",
    "        cannot start with digit"
   ]
  },
  {
   "cell_type": "code",
   "execution_count": 66,
   "id": "d1950d38",
   "metadata": {},
   "outputs": [
    {
     "name": "stdout",
     "output_type": "stream",
     "text": [
      "5\n",
      "10\n"
     ]
    }
   ],
   "source": [
    "a=5\n",
    "A=10\n",
    "print(a)\n",
    "print(A)"
   ]
  },
  {
   "cell_type": "markdown",
   "id": "32dc2ebd",
   "metadata": {},
   "source": [
    "# Literals --> Values that do not change all over the code, unless you change it."
   ]
  },
  {
   "cell_type": "code",
   "execution_count": 67,
   "id": "837970cf",
   "metadata": {},
   "outputs": [],
   "source": [
    "x=10\n",
    "y=20"
   ]
  },
  {
   "cell_type": "code",
   "execution_count": 68,
   "id": "d9258575",
   "metadata": {},
   "outputs": [
    {
     "name": "stdout",
     "output_type": "stream",
     "text": [
      "10 20\n"
     ]
    }
   ],
   "source": [
    "print(x,y)"
   ]
  },
  {
   "cell_type": "code",
   "execution_count": 69,
   "id": "72dae3ff",
   "metadata": {},
   "outputs": [],
   "source": [
    "x=100"
   ]
  },
  {
   "cell_type": "code",
   "execution_count": 70,
   "id": "e7f3336f",
   "metadata": {},
   "outputs": [
    {
     "name": "stdout",
     "output_type": "stream",
     "text": [
      "100 20\n"
     ]
    }
   ],
   "source": [
    "print(x,y)"
   ]
  },
  {
   "cell_type": "markdown",
   "id": "fea9843b",
   "metadata": {},
   "source": [
    "# STRINGS:\n",
    "\n",
    "    Sequence of characters enclosed within '',\"\",\"\"\" \"\"\"\n",
    "\n"
   ]
  },
  {
   "cell_type": "code",
   "execution_count": 72,
   "id": "678c36c9",
   "metadata": {},
   "outputs": [
    {
     "data": {
      "text/plain": [
       "'Hello This is a sample string'"
      ]
     },
     "execution_count": 72,
     "metadata": {},
     "output_type": "execute_result"
    }
   ],
   "source": [
    "my_str=\"Hello This is a sample string\"\n",
    "my_str"
   ]
  },
  {
   "cell_type": "code",
   "execution_count": 73,
   "id": "57cbb8d7",
   "metadata": {},
   "outputs": [
    {
     "data": {
      "text/plain": [
       "'Hello This is a sample string'"
      ]
     },
     "execution_count": 73,
     "metadata": {},
     "output_type": "execute_result"
    }
   ],
   "source": [
    "my_str1='Hello This is a sample string'\n",
    "my_str1"
   ]
  },
  {
   "cell_type": "code",
   "execution_count": 77,
   "id": "3ffd58f3",
   "metadata": {},
   "outputs": [
    {
     "name": "stdout",
     "output_type": "stream",
     "text": [
      "This is a string\n",
      " that spans multiple lines\n"
     ]
    }
   ],
   "source": [
    "my_str3 = \"\"\"This is a string\n",
    " that spans multiple lines\"\"\"\n",
    "print(my_str3)"
   ]
  },
  {
   "cell_type": "markdown",
   "id": "d19932db",
   "metadata": {},
   "source": [
    "String operations "
   ]
  },
  {
   "cell_type": "code",
   "execution_count": 78,
   "id": "0c1f34be",
   "metadata": {},
   "outputs": [
    {
     "data": {
      "text/plain": [
       "29"
      ]
     },
     "execution_count": 78,
     "metadata": {},
     "output_type": "execute_result"
    }
   ],
   "source": [
    "#To get the length of the string\n",
    "len(my_str)"
   ]
  },
  {
   "cell_type": "code",
   "execution_count": 79,
   "id": "bae343dc",
   "metadata": {},
   "outputs": [
    {
     "data": {
      "text/plain": [
       "'HELLO THIS IS A SAMPLE STRING'"
      ]
     },
     "execution_count": 79,
     "metadata": {},
     "output_type": "execute_result"
    }
   ],
   "source": [
    "#To change into uppercase\n",
    "my_str.upper()"
   ]
  },
  {
   "cell_type": "code",
   "execution_count": 80,
   "id": "c8e237f9",
   "metadata": {},
   "outputs": [
    {
     "data": {
      "text/plain": [
       "'hello this is a sample string'"
      ]
     },
     "execution_count": 80,
     "metadata": {},
     "output_type": "execute_result"
    }
   ],
   "source": [
    "#To change into  lower case\n",
    "my_str.lower()"
   ]
  },
  {
   "cell_type": "code",
   "execution_count": 81,
   "id": "18a56bab",
   "metadata": {},
   "outputs": [
    {
     "data": {
      "text/plain": [
       "'Hi This is a sample string'"
      ]
     },
     "execution_count": 81,
     "metadata": {},
     "output_type": "execute_result"
    }
   ],
   "source": [
    "#To replace \n",
    "my_str.replace('Hello',\"Hi\")"
   ]
  },
  {
   "cell_type": "code",
   "execution_count": 83,
   "id": "4f9926cf",
   "metadata": {},
   "outputs": [
    {
     "data": {
      "text/plain": [
       "16"
      ]
     },
     "execution_count": 83,
     "metadata": {},
     "output_type": "execute_result"
    }
   ],
   "source": [
    "#To find a occurence of particular word, it returns the index of the starting of the string\n",
    "my_str.find('sample')"
   ]
  },
  {
   "cell_type": "code",
   "execution_count": 84,
   "id": "29d3afb7",
   "metadata": {},
   "outputs": [
    {
     "data": {
      "text/plain": [
       "-1"
      ]
     },
     "execution_count": 84,
     "metadata": {},
     "output_type": "execute_result"
    }
   ],
   "source": [
    "#It returns -1 when the string is not present\n",
    "my_str.find('Sample')"
   ]
  },
  {
   "cell_type": "code",
   "execution_count": 91,
   "id": "3c165d85",
   "metadata": {},
   "outputs": [
    {
     "data": {
      "text/plain": [
       "['I like apples', ' mangoes', ' bananas']"
      ]
     },
     "execution_count": 91,
     "metadata": {},
     "output_type": "execute_result"
    }
   ],
   "source": [
    "#Split function\n",
    "fruit = 'I like apples, mangoes, bananas'\n",
    "\n",
    "fruit.split(',')"
   ]
  },
  {
   "cell_type": "markdown",
   "id": "a386f770",
   "metadata": {},
   "source": [
    "# String Indexing "
   ]
  },
  {
   "cell_type": "markdown",
   "id": "a938862c",
   "metadata": {},
   "source": [
    "# \n",
    "Returns the position of the string. \n",
    "Indexing starts from [0] which represents the first character of the string."
   ]
  },
  {
   "cell_type": "code",
   "execution_count": 5,
   "id": "b5f3c65d",
   "metadata": {},
   "outputs": [],
   "source": [
    "my_string = \"Hello\""
   ]
  },
  {
   "cell_type": "code",
   "execution_count": 89,
   "id": "b2f35be5",
   "metadata": {},
   "outputs": [
    {
     "data": {
      "text/plain": [
       "'H'"
      ]
     },
     "execution_count": 89,
     "metadata": {},
     "output_type": "execute_result"
    }
   ],
   "source": [
    "my_string[0]"
   ]
  },
  {
   "cell_type": "code",
   "execution_count": 90,
   "id": "c86d713b",
   "metadata": {},
   "outputs": [
    {
     "data": {
      "text/plain": [
       "'o'"
      ]
     },
     "execution_count": 90,
     "metadata": {},
     "output_type": "execute_result"
    }
   ],
   "source": [
    "my_string[-1]"
   ]
  },
  {
   "cell_type": "code",
   "execution_count": 6,
   "id": "8e7aa227",
   "metadata": {},
   "outputs": [
    {
     "data": {
      "text/plain": [
       "'e'"
      ]
     },
     "execution_count": 6,
     "metadata": {},
     "output_type": "execute_result"
    }
   ],
   "source": [
    "my_string[1]"
   ]
  },
  {
   "cell_type": "markdown",
   "id": "8e0817d8",
   "metadata": {},
   "source": [
    "# Slicing \n"
   ]
  },
  {
   "cell_type": "code",
   "execution_count": 7,
   "id": "e3ffffc0",
   "metadata": {},
   "outputs": [],
   "source": [
    "my_string = \"Hello, world!\""
   ]
  },
  {
   "cell_type": "code",
   "execution_count": 8,
   "id": "c9f1677b",
   "metadata": {},
   "outputs": [
    {
     "data": {
      "text/plain": [
       "'Hello, '"
      ]
     },
     "execution_count": 8,
     "metadata": {},
     "output_type": "execute_result"
    }
   ],
   "source": [
    "#Starting from 1st to 6th\n",
    "my_string[0:7]"
   ]
  },
  {
   "cell_type": "code",
   "execution_count": 12,
   "id": "7a6b035e",
   "metadata": {},
   "outputs": [
    {
     "data": {
      "text/plain": [
       "'Hello, world'"
      ]
     },
     "execution_count": 12,
     "metadata": {},
     "output_type": "execute_result"
    }
   ],
   "source": [
    "my_string[:-1] "
   ]
  },
  {
   "cell_type": "code",
   "execution_count": 96,
   "id": "2e35df15",
   "metadata": {},
   "outputs": [
    {
     "data": {
      "text/plain": [
       "'Hlo ol!'"
      ]
     },
     "execution_count": 96,
     "metadata": {},
     "output_type": "execute_result"
    }
   ],
   "source": [
    "#Skips 2 letters\n",
    "my_string[::2]"
   ]
  },
  {
   "cell_type": "code",
   "execution_count": 98,
   "id": "2ace283a",
   "metadata": {},
   "outputs": [
    {
     "data": {
      "text/plain": [
       "'Hello, world!'"
      ]
     },
     "execution_count": 98,
     "metadata": {},
     "output_type": "execute_result"
    }
   ],
   "source": [
    "my_string[::]"
   ]
  },
  {
   "cell_type": "markdown",
   "id": "0295813d",
   "metadata": {},
   "source": [
    "# String Manipulations"
   ]
  },
  {
   "cell_type": "code",
   "execution_count": 100,
   "id": "a38fb878",
   "metadata": {},
   "outputs": [
    {
     "data": {
      "text/plain": [
       "'!dlrow ,olleH'"
      ]
     },
     "execution_count": 100,
     "metadata": {},
     "output_type": "execute_result"
    }
   ],
   "source": [
    "#Reverse the string\n",
    "reversed_string = my_string[::-1]\n",
    "reversed_string"
   ]
  },
  {
   "cell_type": "code",
   "execution_count": 101,
   "id": "7a034b36",
   "metadata": {},
   "outputs": [
    {
     "name": "stdout",
     "output_type": "stream",
     "text": [
      "Alice Smith\n"
     ]
    }
   ],
   "source": [
    "#String Concatenation\n",
    "\n",
    "first_name = \"Alice\"\n",
    "last_name = \"Smith\"\n",
    "full_name = first_name + \" \" + last_name\n",
    "print(full_name) "
   ]
  },
  {
   "cell_type": "code",
   "execution_count": 104,
   "id": "e1e8a288",
   "metadata": {},
   "outputs": [
    {
     "name": "stdout",
     "output_type": "stream",
     "text": [
      "['apple', 'banana', 'cherry']\n",
      "apple, banana, cherry\n"
     ]
    }
   ],
   "source": [
    "#String Join\n",
    "fruits = ['apple', 'banana', 'cherry']\n",
    "print(fruits)\n",
    "joined_string = \", \".join(fruits)\n",
    "print(joined_string)"
   ]
  },
  {
   "cell_type": "code",
   "execution_count": 106,
   "id": "a73b28f4",
   "metadata": {},
   "outputs": [
    {
     "name": "stdout",
     "output_type": "stream",
     "text": [
      "Hello, world!\n"
     ]
    }
   ],
   "source": [
    "#Removing unwanted spaces,char etc\n",
    "my_string = \"  Hello, world!  \"\n",
    "trimmed_string = my_string.strip()\n",
    "print(trimmed_string)"
   ]
  },
  {
   "cell_type": "code",
   "execution_count": 108,
   "id": "934176fc",
   "metadata": {},
   "outputs": [
    {
     "name": "stdout",
     "output_type": "stream",
     "text": [
      "Hello, world!\n"
     ]
    }
   ],
   "source": [
    "text = \"Hello, world!   \"\n",
    "stripped_text = text.rstrip()\n",
    "print(stripped_text)  "
   ]
  },
  {
   "cell_type": "code",
   "execution_count": null,
   "id": "53834cc2",
   "metadata": {},
   "outputs": [],
   "source": []
  },
  {
   "cell_type": "code",
   "execution_count": 107,
   "id": "a13337c9",
   "metadata": {},
   "outputs": [
    {
     "name": "stdout",
     "output_type": "stream",
     "text": [
      " Hello, world! \n"
     ]
    }
   ],
   "source": [
    "text = \"# Hello, world! @\"\n",
    "stripped_text = text.lstrip(\"#\").rstrip(\"@\")\n",
    "print(stripped_text) "
   ]
  },
  {
   "cell_type": "code",
   "execution_count": null,
   "id": "0d777266",
   "metadata": {},
   "outputs": [],
   "source": []
  }
 ],
 "metadata": {
  "kernelspec": {
   "display_name": "Python 3 (ipykernel)",
   "language": "python",
   "name": "python3"
  },
  "language_info": {
   "codemirror_mode": {
    "name": "ipython",
    "version": 3
   },
   "file_extension": ".py",
   "mimetype": "text/x-python",
   "name": "python",
   "nbconvert_exporter": "python",
   "pygments_lexer": "ipython3",
   "version": "3.9.13"
  }
 },
 "nbformat": 4,
 "nbformat_minor": 5
}
