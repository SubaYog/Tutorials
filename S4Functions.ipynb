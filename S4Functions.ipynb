{
 "cells": [
  {
   "cell_type": "markdown",
   "id": "73c2c493",
   "metadata": {},
   "source": [
    "# Functions :\n",
    "            1. Starts with keyword 'def'\n"
   ]
  },
  {
   "cell_type": "code",
   "execution_count": 37,
   "id": "802b4fe0",
   "metadata": {},
   "outputs": [],
   "source": [
    "#Simple function\n",
    "def hello():\n",
    "    print(\"Hello World\")"
   ]
  },
  {
   "cell_type": "code",
   "execution_count": 38,
   "id": "66a1032e",
   "metadata": {},
   "outputs": [
    {
     "name": "stdout",
     "output_type": "stream",
     "text": [
      "Hello World\n"
     ]
    }
   ],
   "source": [
    "hello()"
   ]
  },
  {
   "cell_type": "code",
   "execution_count": 39,
   "id": "07e9417b",
   "metadata": {},
   "outputs": [],
   "source": [
    "#Function with parameter\n",
    "def add(x):\n",
    "    return x+10"
   ]
  },
  {
   "cell_type": "code",
   "execution_count": 40,
   "id": "93292e6b",
   "metadata": {},
   "outputs": [
    {
     "data": {
      "text/plain": [
       "15"
      ]
     },
     "execution_count": 40,
     "metadata": {},
     "output_type": "execute_result"
    }
   ],
   "source": [
    "add(5)"
   ]
  },
  {
   "cell_type": "code",
   "execution_count": 41,
   "id": "2e65f7a3",
   "metadata": {},
   "outputs": [],
   "source": [
    "def even_odd(x):\n",
    "    if x%2==0:\n",
    "        print(x, \" is even\")\n",
    "    else:\n",
    "        print(x, \" is odd\")"
   ]
  },
  {
   "cell_type": "code",
   "execution_count": 42,
   "id": "9db2ec86",
   "metadata": {},
   "outputs": [
    {
     "name": "stdout",
     "output_type": "stream",
     "text": [
      "100  is even\n"
     ]
    }
   ],
   "source": [
    "even_odd(100)"
   ]
  },
  {
   "cell_type": "markdown",
   "id": "7a3c5d71",
   "metadata": {},
   "source": [
    "# Local variables and Global variables "
   ]
  },
  {
   "cell_type": "markdown",
   "id": "d3a5fdad",
   "metadata": {},
   "source": [
    "# Local variables:\n",
    "        Defined inside a function  \n",
    "        Have limited scope within that function.\n",
    "        They cannot be accessed outside the function."
   ]
  },
  {
   "cell_type": "code",
   "execution_count": 10,
   "id": "a28d0b2b",
   "metadata": {},
   "outputs": [],
   "source": [
    "def calculate_square(number):\n",
    "    # Local variable 'square' within this function\n",
    "    square = number ** 2\n",
    "    print(f\"The square of {number} is {square}\")\n",
    "\n"
   ]
  },
  {
   "cell_type": "code",
   "execution_count": 43,
   "id": "bf862715",
   "metadata": {},
   "outputs": [
    {
     "name": "stdout",
     "output_type": "stream",
     "text": [
      "The square of 5 is 25\n"
     ]
    }
   ],
   "source": [
    "calculate_square(5)"
   ]
  },
  {
   "cell_type": "markdown",
   "id": "d0cbcaea",
   "metadata": {},
   "source": [
    "# Global Variables:\n",
    "         Defined outside any function \n",
    "         Accessible throughout the program.\n",
    "         They can be used both inside and outside functions."
   ]
  },
  {
   "cell_type": "code",
   "execution_count": 12,
   "id": "e9acc1ad",
   "metadata": {},
   "outputs": [],
   "source": [
    "global_var = 42  # A global variable\n",
    "\n",
    "def modify_global():\n",
    "    global global_var\n",
    "    global_var += 10\n",
    "    print(f\"Inside function: global_var = {global_var}\")\n"
   ]
  },
  {
   "cell_type": "code",
   "execution_count": 13,
   "id": "097e65a6",
   "metadata": {},
   "outputs": [
    {
     "name": "stdout",
     "output_type": "stream",
     "text": [
      "Inside function: global_var = 52\n",
      "Outside function: global_var = 52\n"
     ]
    }
   ],
   "source": [
    "modify_global()  # Output: Inside function: global_var = 52\n",
    "print(f\"Outside function: global_var = {global_var}\")"
   ]
  },
  {
   "cell_type": "code",
   "execution_count": 44,
   "id": "ee7a6c74",
   "metadata": {},
   "outputs": [],
   "source": [
    "#use of global keyword to create global variable inside a function\n",
    "def create_global_variable():\n",
    "    global x \n",
    "    x = 'fantastic'"
   ]
  },
  {
   "cell_type": "code",
   "execution_count": 45,
   "id": "f5060f62",
   "metadata": {},
   "outputs": [
    {
     "name": "stdout",
     "output_type": "stream",
     "text": [
      "Python is fantastic\n"
     ]
    }
   ],
   "source": [
    "create_global_variable()\n",
    "print('Python is', x) "
   ]
  },
  {
   "cell_type": "markdown",
   "id": "9a7440f7",
   "metadata": {},
   "source": [
    "# Lambda Functions:\n",
    "                1.concise way to create small, nameless functions.\n",
    "                2.created using the lambda keyword.\n",
    "                3.syntax --> lambda arguments: expression\n",
    "                4.any number of arguments, but only one expression."
   ]
  },
  {
   "cell_type": "code",
   "execution_count": 20,
   "id": "c9fc6f2b",
   "metadata": {},
   "outputs": [],
   "source": [
    "g = lambda x: x*x*x \n"
   ]
  },
  {
   "cell_type": "code",
   "execution_count": 46,
   "id": "a83d0d47",
   "metadata": {},
   "outputs": [
    {
     "name": "stdout",
     "output_type": "stream",
     "text": [
      "343\n"
     ]
    }
   ],
   "source": [
    "print(g(7))"
   ]
  },
  {
   "cell_type": "code",
   "execution_count": 47,
   "id": "47c26440",
   "metadata": {},
   "outputs": [],
   "source": [
    "multiply = lambda x, y : x*y\n"
   ]
  },
  {
   "cell_type": "code",
   "execution_count": 48,
   "id": "a2e21f2d",
   "metadata": {},
   "outputs": [
    {
     "name": "stdout",
     "output_type": "stream",
     "text": [
      "16\n"
     ]
    }
   ],
   "source": [
    "print(multiply(4,4))"
   ]
  },
  {
   "cell_type": "markdown",
   "id": "2cba1c2a",
   "metadata": {},
   "source": [
    "# MAP function :\n",
    "        1. apply a specified function to each item in an iterable (such as a list, tuple, or dictionary).\n",
    "        2. uses a keyword map()\n",
    "        3. Syntax : map(function, iterable, [iterable1, iterable2, ...])"
   ]
  },
  {
   "cell_type": "code",
   "execution_count": 24,
   "id": "87b34777",
   "metadata": {},
   "outputs": [
    {
     "name": "stdout",
     "output_type": "stream",
     "text": [
      "[1, 4, 9, 16]\n"
     ]
    }
   ],
   "source": [
    "def square(x):\n",
    "    return x ** 2\n",
    "\n",
    "numbers = [1, 2, 3, 4]\n",
    "result = map(square, numbers)\n",
    "print(list(result))"
   ]
  },
  {
   "cell_type": "code",
   "execution_count": 25,
   "id": "a9bda8b2",
   "metadata": {},
   "outputs": [
    {
     "name": "stdout",
     "output_type": "stream",
     "text": [
      "[2, 4, 6, 8]\n"
     ]
    }
   ],
   "source": [
    "#using lambda\n",
    "numbers = [1, 2, 3, 4]\n",
    "result = map(lambda x: x + x, numbers)\n",
    "print(list(result))"
   ]
  },
  {
   "cell_type": "markdown",
   "id": "a7eef32e",
   "metadata": {},
   "source": [
    "# Filter Function :\n",
    "        1.process an iterable and extract those items that satisfy a given condition.\n",
    "        2. filter() keyword is used\n",
    "        3. Syntax :  filter(function, iterable)"
   ]
  },
  {
   "cell_type": "code",
   "execution_count": 26,
   "id": "9a0a0a65",
   "metadata": {},
   "outputs": [
    {
     "name": "stdout",
     "output_type": "stream",
     "text": [
      "[2, 4, 6]\n"
     ]
    }
   ],
   "source": [
    "def is_even(number):\n",
    "    return number % 2 == 0\n",
    "\n",
    "numbers = [1, 2, 3, 4, 5, 6]\n",
    "filtered_numbers = filter(is_even, numbers)\n",
    "print(list(filtered_numbers)) "
   ]
  },
  {
   "cell_type": "code",
   "execution_count": 27,
   "id": "7801ab3f",
   "metadata": {},
   "outputs": [
    {
     "name": "stdout",
     "output_type": "stream",
     "text": [
      "[2, 4, 6]\n"
     ]
    }
   ],
   "source": [
    "numbers = [1, 2, 3, 4, 5, 6]\n",
    "filtered_numbers = filter(lambda x: x % 2 == 0, numbers)\n",
    "print(list(filtered_numbers)) "
   ]
  },
  {
   "cell_type": "code",
   "execution_count": 30,
   "id": "8058b101",
   "metadata": {},
   "outputs": [
    {
     "name": "stdout",
     "output_type": "stream",
     "text": [
      "['apple', 'cherry', 'date']\n"
     ]
    }
   ],
   "source": [
    "words = ['apple', 'banana', 'cherry', 'date']\n",
    "filtered_words = filter(lambda word: 'e' in word, words)\n",
    "print(list(filtered_words)) "
   ]
  },
  {
   "cell_type": "markdown",
   "id": "a693964f",
   "metadata": {},
   "source": [
    "# Reduce Function:\n",
    "        1.apply a specified function to a sequence of values, reducing them to a single value.\n",
    "        2.reduce() keyword used.\n",
    "        3. Syntax : functools.reduce(function, iterable, [initializer])\n",
    "        4.simplifies code by avoiding explicit loops.\n",
    "        5.great for cumulative calculations (like sums, products, or finding the maximum/minimum)."
   ]
  },
  {
   "cell_type": "code",
   "execution_count": 32,
   "id": "c2a2582b",
   "metadata": {},
   "outputs": [
    {
     "name": "stdout",
     "output_type": "stream",
     "text": [
      "Sum of list elements: 15\n"
     ]
    }
   ],
   "source": [
    "import functools\n",
    "\n",
    "numbers = [1, 2, 3, 4, 5]\n",
    "total_sum = functools.reduce(lambda x, y: x + y, numbers)\n",
    "print(\"Sum of list elements:\", total_sum)"
   ]
  },
  {
   "cell_type": "code",
   "execution_count": 33,
   "id": "009ded1a",
   "metadata": {},
   "outputs": [
    {
     "name": "stdout",
     "output_type": "stream",
     "text": [
      "Product of list elements: 120\n"
     ]
    }
   ],
   "source": [
    "import operator\n",
    "\n",
    "product = functools.reduce(operator.mul, numbers)\n",
    "print(\"Product of list elements:\", product) "
   ]
  },
  {
   "cell_type": "code",
   "execution_count": null,
   "id": "69903938",
   "metadata": {},
   "outputs": [],
   "source": []
  },
  {
   "cell_type": "code",
   "execution_count": 36,
   "id": "da882871",
   "metadata": {},
   "outputs": [
    {
     "data": {
      "text/plain": [
       "15"
      ]
     },
     "execution_count": 36,
     "metadata": {},
     "output_type": "execute_result"
    }
   ],
   "source": [
    "#using comprehension\n",
    "total_sum = sum([num for num in numbers])\n",
    "total_sum"
   ]
  },
  {
   "cell_type": "code",
   "execution_count": null,
   "id": "2832e119",
   "metadata": {},
   "outputs": [],
   "source": []
  }
 ],
 "metadata": {
  "kernelspec": {
   "display_name": "Python 3 (ipykernel)",
   "language": "python",
   "name": "python3"
  },
  "language_info": {
   "codemirror_mode": {
    "name": "ipython",
    "version": 3
   },
   "file_extension": ".py",
   "mimetype": "text/x-python",
   "name": "python",
   "nbconvert_exporter": "python",
   "pygments_lexer": "ipython3",
   "version": "3.9.13"
  }
 },
 "nbformat": 4,
 "nbformat_minor": 5
}
