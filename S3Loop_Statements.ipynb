{
 "cells": [
  {
   "cell_type": "markdown",
   "id": "6fd756f4",
   "metadata": {},
   "source": [
    "# LOOPS:\n",
    "    1.If else loop\n",
    "    2.Elif\n",
    "    3.For loop\n",
    "    4.while loop"
   ]
  },
  {
   "cell_type": "markdown",
   "id": "56f18dc8",
   "metadata": {},
   "source": [
    "1.If else Loop"
   ]
  },
  {
   "cell_type": "markdown",
   "id": "a88ed3b2",
   "metadata": {},
   "source": [
    "# Syntax\n",
    "    if condition:\n",
    "        # body of if statement\n",
    "\n",
    "    else:\n",
    "        # body of else statement"
   ]
  },
  {
   "cell_type": "code",
   "execution_count": 2,
   "id": "452e717e",
   "metadata": {},
   "outputs": [
    {
     "name": "stdout",
     "output_type": "stream",
     "text": [
      "a is smaller than 50\n"
     ]
    }
   ],
   "source": [
    "a=5\n",
    "if a>50:\n",
    "    print('a is larger than 50')\n",
    "else:\n",
    "    print('a is smaller than 50')"
   ]
  },
  {
   "cell_type": "code",
   "execution_count": 28,
   "id": "039f0a5f",
   "metadata": {},
   "outputs": [
    {
     "name": "stdout",
     "output_type": "stream",
     "text": [
      "Enter a number: -45\n",
      "Negative Number\n"
     ]
    }
   ],
   "source": [
    "# Elif\n",
    "num = int(input(\"Enter a number: \"))\n",
    "\n",
    "if num > 0:\n",
    "    print(\"Positive number\")\n",
    "elif num == 0:\n",
    "    print(\"It is a ZERO\")\n",
    "else:\n",
    "    print(\"Negative Number\")"
   ]
  },
  {
   "cell_type": "code",
   "execution_count": 6,
   "id": "9442985a",
   "metadata": {},
   "outputs": [
    {
     "name": "stdout",
     "output_type": "stream",
     "text": [
      "Smallest element among three numbers is: 2\n"
     ]
    }
   ],
   "source": [
    "# Find the smallest number out of 3 values\n",
    "n1 = 2\n",
    "n2 = 60\n",
    "n3 = 78\n",
    "\n",
    "if (n1 <= n2) and (n1 <= n3):           #logical operator   and\n",
    "    smallest = n1\n",
    "elif (n2 <= n1) and (n2 <= n3):\n",
    "    smallest = n2\n",
    "else:\n",
    "    smallest = n3\n",
    "print(\"Smallest element among three numbers is: {}\".format(smallest))"
   ]
  },
  {
   "cell_type": "markdown",
   "id": "ea74947f",
   "metadata": {},
   "source": [
    "# For Loop :"
   ]
  },
  {
   "cell_type": "markdown",
   "id": "a8212f90",
   "metadata": {},
   "source": [
    "# Syntax:\n",
    "    for val in sequence:\n",
    "        # statement(s)"
   ]
  },
  {
   "cell_type": "code",
   "execution_count": 10,
   "id": "3700814c",
   "metadata": {},
   "outputs": [
    {
     "name": "stdout",
     "output_type": "stream",
     "text": [
      "1\n",
      "2\n",
      "3\n",
      "4\n",
      "5\n",
      "6\n",
      "7\n",
      "8\n",
      "9\n"
     ]
    }
   ],
   "source": [
    "for i in range(1,10):\n",
    "    print(i) "
   ]
  },
  {
   "cell_type": "code",
   "execution_count": null,
   "id": "072aa577",
   "metadata": {},
   "outputs": [],
   "source": []
  },
  {
   "cell_type": "code",
   "execution_count": 13,
   "id": "c197c298",
   "metadata": {},
   "outputs": [
    {
     "name": "stdout",
     "output_type": "stream",
     "text": [
      "1\n",
      "3\n",
      "5\n",
      "7\n",
      "9\n"
     ]
    }
   ],
   "source": [
    "for i in range(1,10,2):\n",
    "    print(i) "
   ]
  },
  {
   "cell_type": "code",
   "execution_count": 14,
   "id": "7517c2bf",
   "metadata": {},
   "outputs": [
    {
     "name": "stdout",
     "output_type": "stream",
     "text": [
      "apple\n",
      "banana\n",
      "cherry\n"
     ]
    }
   ],
   "source": [
    "fruits = ['apple', 'banana', 'cherry']\n",
    "for fruit in fruits:\n",
    "    print(fruit)"
   ]
  },
  {
   "cell_type": "code",
   "execution_count": 7,
   "id": "d1b26c81",
   "metadata": {},
   "outputs": [],
   "source": [
    "subjects = [\"maths\",\"science\",\"hindi\",\"history\"]"
   ]
  },
  {
   "cell_type": "code",
   "execution_count": 32,
   "id": "bdf9bed4",
   "metadata": {},
   "outputs": [
    {
     "name": "stdout",
     "output_type": "stream",
     "text": [
      "5\n",
      "7\n",
      "5\n",
      "7\n"
     ]
    }
   ],
   "source": [
    "print(len(subjects[0]))\n",
    "print(len(subjects[1]))\n",
    "print(len(subjects[2]))\n",
    "print(len(subjects[3]))"
   ]
  },
  {
   "cell_type": "code",
   "execution_count": 33,
   "id": "2ce3a001",
   "metadata": {},
   "outputs": [
    {
     "name": "stdout",
     "output_type": "stream",
     "text": [
      "5\n",
      "7\n",
      "5\n",
      "7\n"
     ]
    }
   ],
   "source": [
    "for i in range(4):\n",
    "    print(len(subjects[i]))"
   ]
  },
  {
   "cell_type": "markdown",
   "id": "7078f4bb",
   "metadata": {},
   "source": [
    "# Nested For Loop"
   ]
  },
  {
   "cell_type": "code",
   "execution_count": 15,
   "id": "4813f31d",
   "metadata": {},
   "outputs": [
    {
     "name": "stdout",
     "output_type": "stream",
     "text": [
      "0 0\n",
      "0 1\n",
      "0 2\n",
      "1 0\n",
      "1 1\n",
      "1 2\n",
      "2 0\n",
      "2 1\n",
      "2 2\n"
     ]
    }
   ],
   "source": [
    "for i in range(3):\n",
    "    for j in range(3):\n",
    "        print(i, j)"
   ]
  },
  {
   "cell_type": "code",
   "execution_count": 16,
   "id": "f507ca04",
   "metadata": {},
   "outputs": [
    {
     "name": "stdout",
     "output_type": "stream",
     "text": [
      "[1, 2, 3, 4, 5, 6, 7, 8, 9]\n"
     ]
    }
   ],
   "source": [
    "nested_list = [[1, 2, 3], [4, 5, 6], [7, 8, 9]]\n",
    "flattened_list = []\n",
    "\n",
    "for sublist in nested_list:\n",
    "    for item in sublist:\n",
    "        flattened_list.append(item)\n",
    "\n",
    "print(flattened_list)"
   ]
  },
  {
   "cell_type": "code",
   "execution_count": 17,
   "id": "1edbdd6b",
   "metadata": {},
   "outputs": [
    {
     "name": "stdout",
     "output_type": "stream",
     "text": [
      "[1, 4, 9, 16, 25, 36, 49, 64, 81]\n"
     ]
    }
   ],
   "source": [
    "squares_list= []\n",
    "\n",
    "for x in range(1,10):\n",
    "    squares_list.append(x**2)\n",
    "print(squares_list)"
   ]
  },
  {
   "cell_type": "markdown",
   "id": "caa51d09",
   "metadata": {},
   "source": [
    "# Comprehensions"
   ]
  },
  {
   "cell_type": "markdown",
   "id": "78dabe01",
   "metadata": {},
   "source": [
    "# SYNTAX:\n",
    "\n",
    "[expression for variable in iterable]"
   ]
  },
  {
   "cell_type": "code",
   "execution_count": 18,
   "id": "283de89e",
   "metadata": {},
   "outputs": [
    {
     "name": "stdout",
     "output_type": "stream",
     "text": [
      "[1, 4, 9, 16, 25, 36, 49, 64, 81]\n"
     ]
    }
   ],
   "source": [
    "squares_list = [x**2 for x in range(1,10)]\n",
    "print(squares_list)"
   ]
  },
  {
   "cell_type": "code",
   "execution_count": 20,
   "id": "33e08cbb",
   "metadata": {},
   "outputs": [
    {
     "name": "stdout",
     "output_type": "stream",
     "text": [
      "{0: 0, 1: 1, 2: 4, 3: 9, 4: 16, 5: 25, 6: 36, 7: 49, 8: 64, 9: 81}\n"
     ]
    }
   ],
   "source": [
    "squared_dictionary = {num : num**2 for num in range(0, 10)}\n",
    "print(squared_dictionary)"
   ]
  },
  {
   "cell_type": "code",
   "execution_count": 21,
   "id": "bb4e74af",
   "metadata": {},
   "outputs": [
    {
     "name": "stdout",
     "output_type": "stream",
     "text": [
      "[('Hello', 5), ('Python', 6), ('World', 5)]\n"
     ]
    }
   ],
   "source": [
    "words = ['Hello', 'Python', 'World']\n",
    "lengths_list = [(word, len(word)) for word in words]\n",
    "print(lengths_list)\n"
   ]
  },
  {
   "cell_type": "code",
   "execution_count": 23,
   "id": "5913ee4b",
   "metadata": {},
   "outputs": [
    {
     "data": {
      "text/plain": [
       "[2, 4, 6, 8, 10]"
      ]
     },
     "execution_count": 23,
     "metadata": {},
     "output_type": "execute_result"
    }
   ],
   "source": [
    "numbers = [1, 2, 3, 4, 5, 6, 7, 8, 9, 10]\n",
    "even_numbers = [num for num in numbers if num % 2 == 0]\n",
    "even_numbers"
   ]
  },
  {
   "cell_type": "markdown",
   "id": "eae14a86",
   "metadata": {},
   "source": [
    "# While loop:\n",
    "\n"
   ]
  },
  {
   "cell_type": "markdown",
   "id": "7a96cb0f",
   "metadata": {},
   "source": [
    "# Syntax:\n",
    "        while condition:\n",
    "            # body of while loop"
   ]
  },
  {
   "cell_type": "code",
   "execution_count": 24,
   "id": "5a7590a9",
   "metadata": {},
   "outputs": [
    {
     "name": "stdout",
     "output_type": "stream",
     "text": [
      "1\n",
      "2\n",
      "3\n",
      "4\n",
      "5\n"
     ]
    }
   ],
   "source": [
    "count = 1\n",
    "while count <= 5:\n",
    "    print(count)\n",
    "    count += 1 #count=count+1"
   ]
  },
  {
   "cell_type": "code",
   "execution_count": 27,
   "id": "57075a58",
   "metadata": {},
   "outputs": [
    {
     "name": "stdout",
     "output_type": "stream",
     "text": [
      "7\n"
     ]
    }
   ],
   "source": [
    "#Break Statement\n",
    "# Find the first number greater than 5 in the list\n",
    "numbers = [1, 3, 4, 2, 7, 11, 18]\n",
    "for num in numbers:\n",
    "    if num > 5:\n",
    "        print(num)\n",
    "        break"
   ]
  },
  {
   "cell_type": "code",
   "execution_count": 26,
   "id": "59f80817",
   "metadata": {},
   "outputs": [
    {
     "name": "stdout",
     "output_type": "stream",
     "text": [
      "1\n",
      "2\n",
      "4\n",
      "5\n"
     ]
    }
   ],
   "source": [
    "#Continue Statement\n",
    "count = 0\n",
    "while count < 5:\n",
    "    count += 1\n",
    "    if count == 3:\n",
    "        continue\n",
    "    print(count)"
   ]
  },
  {
   "cell_type": "markdown",
   "id": "e5f22dee",
   "metadata": {},
   "source": [
    "# TASKS:"
   ]
  },
  {
   "cell_type": "markdown",
   "id": "fdd7ad05",
   "metadata": {},
   "source": [
    "1.Create a list that has 10, 23, 4, 26, 4, 75, 24, 54 values and with the help of while loop fetch the even numbers and print the numbers"
   ]
  },
  {
   "cell_type": "markdown",
   "id": "894c629d",
   "metadata": {},
   "source": [
    "2.Create an list that has user defined inputs and with the help of for loop, fetch all the prime numbers and print the numbers.\""
   ]
  },
  {
   "cell_type": "markdown",
   "id": "700c2ef1",
   "metadata": {},
   "source": [
    "3. Create a list containing cubes of numbers from 1 to 10 (use List Comprehension)."
   ]
  },
  {
   "cell_type": "code",
   "execution_count": null,
   "id": "0e46a11e",
   "metadata": {},
   "outputs": [],
   "source": [
    "def add(a,b):\n",
    "    result =a+b\n",
    "    return result"
   ]
  }
 ],
 "metadata": {
  "kernelspec": {
   "display_name": "Python 3 (ipykernel)",
   "language": "python",
   "name": "python3"
  },
  "language_info": {
   "codemirror_mode": {
    "name": "ipython",
    "version": 3
   },
   "file_extension": ".py",
   "mimetype": "text/x-python",
   "name": "python",
   "nbconvert_exporter": "python",
   "pygments_lexer": "ipython3",
   "version": "3.9.13"
  }
 },
 "nbformat": 4,
 "nbformat_minor": 5
}
